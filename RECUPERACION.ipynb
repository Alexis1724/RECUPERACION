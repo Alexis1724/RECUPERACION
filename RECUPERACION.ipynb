{
  "cells": [
    {
      "cell_type": "markdown",
      "source": [
        "Ejercicios\n",
        "18 de marzo"
      ],
      "metadata": {
        "id": "eCQtClamxqoc"
      }
    },
    {
      "cell_type": "code",
      "source": [
        "seg=int(input(\"Ingrese la cantidad de segundos:\"))\n",
        "\n",
        "minu=seg//60\n",
        "sobra_minu=seg%60\n",
        "\n",
        "hora=minu//60\n",
        "sobra_hora=minu%60\n",
        "\n",
        "print(f\"{hora}:{sobra_hora}:{sobra_minu}\")\n"
      ],
      "metadata": {
        "id": "y5ReZSlvyAD8",
        "outputId": "bca96485-1774-4023-f911-6814f14a3d71",
        "colab": {
          "base_uri": "https://localhost:8080/"
        }
      },
      "execution_count": null,
      "outputs": [
        {
          "output_type": "stream",
          "name": "stdout",
          "text": [
            "Ingrese la cantidad de segundos:60\n",
            "0:1:0\n"
          ]
        }
      ]
    },
    {
      "cell_type": "code",
      "source": [
        "fosforo=int(input(\"Ingrese la cantidad de fósforos:\"))\n",
        "residuo=fosforo%40\n",
        "\n",
        "cajas=fosforo/40\n",
        "sobra_cajas=fosforo%40\n",
        "\n",
        "paquetes=cajas/30\n",
        "sobra_paquetes=cajas%30\n",
        "\n",
        "cartones=paquetes/50\n",
        "sobra_cartones=paquetes%50\n",
        "\n",
        "furgones=cartones/30\n",
        "sobra_furgones=cartones%30\n",
        "\n",
        "print(f\"Sobran fósforos={residuo}\")\n",
        "print(f\"cajas={cajas}\")\n",
        "print(f\"Sobran cajas={sobra_cajas}\")\n",
        "\n",
        "print(f\"paquetes={paquetes}\")\n",
        "print(f\"Sobran cajas={sobra_paquetes}\")\n",
        "\n",
        "print(f\"cartones={cartones}\")\n",
        "print(f\"Sobran cajas={sobra_cartones}\")\n",
        "\n",
        "print(f\"furgones={furgones}\")\n",
        "print(f\"Sobran cajas={sobra_furgones}\")\n",
        "if furgones>0:\n",
        "    print(f\"se van a ir {furgones}\")\n",
        "else:\n",
        "    print(f\"No se va ir ningun furgon\")"
      ],
      "metadata": {
        "id": "WO6eKJv9yJwh",
        "outputId": "58026a60-f69c-4678-8de9-fd5c52e6f323",
        "colab": {
          "base_uri": "https://localhost:8080/"
        }
      },
      "execution_count": null,
      "outputs": [
        {
          "output_type": "stream",
          "name": "stdout",
          "text": [
            "Ingrese la cantidad de fósforos:360\n",
            "Sobran fósforos=0\n",
            "cajas=9.0\n",
            "Sobran cajas=0\n",
            "paquetes=0.3\n",
            "Sobran cajas=9.0\n",
            "cartones=0.006\n",
            "Sobran cajas=0.3\n",
            "furgones=0.0002\n",
            "Sobran cajas=0.006\n",
            "se van a ir 0.0002\n"
          ]
        }
      ]
    },
    {
      "cell_type": "markdown",
      "source": [
        "21 de marzo"
      ],
      "metadata": {
        "id": "Uh8wAcLtyq4r"
      }
    },
    {
      "cell_type": "code",
      "source": [
        "num=int(input(\"ingrese un número:\"))\n",
        "\n",
        "if num%2==0:\n",
        "    print(\"El número es par\")\n",
        "else:\n",
        "    print(\"El número es impar\")"
      ],
      "metadata": {
        "id": "7_kfRcVjyvQA"
      },
      "execution_count": null,
      "outputs": []
    },
    {
      "cell_type": "code",
      "source": [
        "print(\"Ecuación de primer grado\")\n",
        "a=int(input(\"Ingrese un número:\"))\n",
        "b=int(input(\"Ingrese un número:\"))\n",
        "\n",
        "if a!=0:\n",
        "    x=-(b/a)\n",
        "    print(x)\n",
        "else:\n",
        "    if b==0:\n",
        "        print(\"Solución indeterminada\")\n",
        "    else:\n",
        "        print(\"Solución imposible\")\n"
      ],
      "metadata": {
        "id": "qJTbwnFHyxVr",
        "colab": {
          "base_uri": "https://localhost:8080/"
        },
        "outputId": "619b483e-73d8-44a3-e2a6-1140abd64390"
      },
      "execution_count": null,
      "outputs": [
        {
          "output_type": "stream",
          "name": "stdout",
          "text": [
            "Ecuación de primer grado\n",
            "Ingrese un número:8\n",
            "Ingrese un número:10\n",
            "-1.25\n"
          ]
        }
      ]
    },
    {
      "cell_type": "code",
      "source": [
        "print('1.- SUMA DE NUMEROS')\n",
        "print('2.- MULTIPLICACION DE NUMEROS')\n",
        "print('3.- DIVISION DE NUMEROS')\n",
        "condicion=int(input('Ingrese un valor:'))\n",
        "\n",
        "if condicion == 1:\n",
        "    print(\"Suma de números\")\n",
        "    num1=int(input('Ingrese primer número:'))\n",
        "    num2=int(input('Ingrese segundo número:'))\n",
        "    suma=num1+num2\n",
        "    print(f'La suma es {suma}')\n",
        "elif condicion == 2:\n",
        "    print(\"Multiplicación de números\")\n",
        "    num1=int(input('Ingrese primer número:'))\n",
        "    num2=int(input('Ingrese segundo número:'))\n",
        "    multi=num1*num2\n",
        "    print(f'La suma es {multi}')\n",
        "elif condicion == 3:\n",
        "    print(\"División de Números\")\n",
        "    num1=int(input('Ingrese primer número:'))\n",
        "    num2=int(input('Ingrese segundo número:'))\n",
        "    division=num1/num2\n",
        "    print(f'La suma es {division}')\n",
        "\n",
        "\n",
        "else:\n",
        "    print(\"Ingrese la opción correcta\")"
      ],
      "metadata": {
        "id": "6DkM0AgpzG5l"
      },
      "execution_count": null,
      "outputs": []
    },
    {
      "cell_type": "code",
      "source": [
        "#Ejercicio 1\n",
        "num=int(input(\"ingrese un número:\"))\n",
        "\n",
        "if num%2==0:\n",
        "    print(\"El número es par\")\n",
        "else:\n",
        "    print(\"El número es impar\")\n"
      ],
      "metadata": {
        "id": "KKUlHlQkzS2_"
      },
      "execution_count": null,
      "outputs": []
    },
    {
      "cell_type": "code",
      "source": [
        "\n",
        "cali=int(input(\"Ingrese una calificación:\"))\n",
        "\n",
        "if cali>=0 and cali<=50:\n",
        "    print(\"La calificación es válida\")\n",
        "else:\n",
        "    print(\"La calificación no es válida\")"
      ],
      "metadata": {
        "id": "vWAjO00czTlF"
      },
      "execution_count": null,
      "outputs": []
    },
    {
      "cell_type": "code",
      "source": [
        "#ejercicio 3\n",
        "\n",
        "edad=int(input(\"Ingrese su edad:\"))\n",
        "\n",
        "if edad>=18:\n",
        "    print(\"Es mayor de edad\")\n",
        "else:\n",
        "    print(\"Es menor de edad\")"
      ],
      "metadata": {
        "id": "0-y8ZtQezVkj"
      },
      "execution_count": null,
      "outputs": []
    },
    {
      "cell_type": "code",
      "source": [
        "number=int(input(\"Ingrese un número:\"))\n",
        "\n",
        "if number>=0:\n",
        "    print(\"El número es positivo\")\n",
        "else:\n",
        "    print(\"El número es negativo\")"
      ],
      "metadata": {
        "id": "gCRF7UjfziCS"
      },
      "execution_count": null,
      "outputs": []
    },
    {
      "cell_type": "markdown",
      "source": [
        "25 de marzo"
      ],
      "metadata": {
        "id": "bdVBJvNczina"
      }
    },
    {
      "cell_type": "code",
      "source": [
        "num=float(input('Ingrese el Número:'))\n",
        "if num%1==0:\n",
        "    print('Sin decimal')\n",
        "else:\n",
        "    print('Con Decimal')"
      ],
      "metadata": {
        "id": "2JWTzqIyz0wj"
      },
      "execution_count": null,
      "outputs": []
    },
    {
      "cell_type": "code",
      "source": [
        "nombre=input('Ingrese el user:')\n",
        "passwd=input('Ingrese la clave:')\n",
        "if (nombre=='renato' and passwd=='puce'):\n",
        "    print('Ingrese al sistema')\n",
        "else:\n",
        "    print('No puedes ingresar al sistema')"
      ],
      "metadata": {
        "id": "q1Sq59L4z4ED"
      },
      "execution_count": null,
      "outputs": []
    },
    {
      "cell_type": "code",
      "source": [
        "a=int(input('Ingrese el lado 1:'))\n",
        "b=int(input('Ingrese el lado 2:'))\n",
        "c=int(input('Ingrese el lado 3:'))\n",
        "if a+b>c and a+c>b and b+c>a:\n",
        "    print(\"Es triángulo\")\n",
        "else:\n",
        "    print('No es un triágnulo')"
      ],
      "metadata": {
        "id": "DYr0FMYIz6TN",
        "outputId": "fd68c2b4-69b7-4eca-f190-4c4c7a5cfb7e",
        "colab": {
          "base_uri": "https://localhost:8080/"
        }
      },
      "execution_count": null,
      "outputs": [
        {
          "output_type": "stream",
          "name": "stdout",
          "text": [
            "Ingrese el lado 1:1\n",
            "Ingrese el lado 2:3\n",
            "Ingrese el lado 3:4\n",
            "No es un triágnulo\n"
          ]
        }
      ]
    },
    {
      "cell_type": "code",
      "source": [
        "A=int(input('Ingrese A:'))\n",
        "B=int(input('Ingrese B:'))\n",
        "C=int(input('Ingrese C:'))\n",
        "if A>B:\n",
        "    if A>C:\n",
        "        mayor=A\n",
        "    else:\n",
        "        mayor=C\n",
        "else:\n",
        "    if B>C:\n",
        "        mayor=B\n",
        "    else:\n",
        "        mayor=C\n",
        "print(f'El mayor es {mayor}')"
      ],
      "metadata": {
        "id": "NOw_E_zz0Df7"
      },
      "execution_count": null,
      "outputs": []
    },
    {
      "cell_type": "code",
      "source": [
        "i=5\n",
        "while i>0:\n",
        "    print(f'{i}',end=\" \")\n",
        "    i=i-1"
      ],
      "metadata": {
        "id": "DDPI0nub0M5D",
        "colab": {
          "base_uri": "https://localhost:8080/"
        },
        "outputId": "a685ecf4-1b99-467e-eb70-25fa0b0a4874"
      },
      "execution_count": null,
      "outputs": [
        {
          "output_type": "stream",
          "name": "stdout",
          "text": [
            "5 4 3 2 1 "
          ]
        }
      ]
    },
    {
      "cell_type": "markdown",
      "source": [
        "1 de abril"
      ],
      "metadata": {
        "id": "RwqeB0Kj0Nfz"
      }
    },
    {
      "cell_type": "code",
      "source": [
        "n=int(input('Ingrese n:'))\n",
        "i=n\n",
        "while i>0:\n",
        "    print(f'Iteración {i}')\n",
        "    i=i-1"
      ],
      "metadata": {
        "id": "12fyKTU80RCQ",
        "colab": {
          "base_uri": "https://localhost:8080/"
        },
        "outputId": "d83e40f3-ee99-40bb-a474-c6f454debba8"
      },
      "execution_count": null,
      "outputs": [
        {
          "output_type": "stream",
          "name": "stdout",
          "text": [
            "Ingrese n:10\n",
            "Iteración 10\n",
            "Iteración 9\n",
            "Iteración 8\n",
            "Iteración 7\n",
            "Iteración 6\n",
            "Iteración 5\n",
            "Iteración 4\n",
            "Iteración 3\n",
            "Iteración 2\n",
            "Iteración 1\n"
          ]
        }
      ]
    },
    {
      "cell_type": "code",
      "source": [
        "n=int(input('Ingrese n:'))\n",
        "acu=0\n",
        "i=1\n",
        "while i<=n:\n",
        "    acu=acu+i\n",
        "    print(f'{i}',end=\",\")\n",
        "    i=i+1\n",
        "print(f'La suma es:{acu}')"
      ],
      "metadata": {
        "id": "sJW__-rR0WxZ",
        "colab": {
          "base_uri": "https://localhost:8080/"
        },
        "outputId": "a78e9f8a-a8b7-4efe-faa7-7db4c9e860d9"
      },
      "execution_count": null,
      "outputs": [
        {
          "output_type": "stream",
          "name": "stdout",
          "text": [
            "Ingrese n:5\n",
            "1,2,3,4,5,La suma es:15\n"
          ]
        }
      ]
    },
    {
      "cell_type": "code",
      "source": [
        "n=int(input('Ingrese n:'))\n",
        "acu=0\n",
        "i=1\n",
        "while i<=n:\n",
        "    acu=acu+i\n",
        "    if i==n:\n",
        "        print(f'{i}',end=\"\")\n",
        "    else:\n",
        "        print(f'{i}',end=\",\")\n",
        "    i=i+1\n",
        "print(f'\\nLa suma es:{acu}')"
      ],
      "metadata": {
        "id": "LS4I-FBf0XiM",
        "colab": {
          "base_uri": "https://localhost:8080/"
        },
        "outputId": "577b558e-1c63-4892-d6d8-a57ec2fd9183"
      },
      "execution_count": null,
      "outputs": [
        {
          "output_type": "stream",
          "name": "stdout",
          "text": [
            "Ingrese n:7\n",
            "1,2,3,4,5,6,7\n",
            "La suma es:28\n"
          ]
        }
      ]
    },
    {
      "cell_type": "code",
      "source": [
        "n=int(input('Ingrese n:'))\n",
        "acu=0\n",
        "i=1\n",
        "while i<=n:\n",
        "    acu=acu+1/i\n",
        "    if i==n:\n",
        "        print(f'{1/i}',end=\"\")\n",
        "    else:\n",
        "        print(f'{1/i}',end=\",\")\n",
        "    i=i+1\n",
        "print(f'\\nLa suma es:{acu}')"
      ],
      "metadata": {
        "id": "uPBb9VnC0Z4a",
        "colab": {
          "base_uri": "https://localhost:8080/"
        },
        "outputId": "4201a06f-731f-497a-902a-ab604ef2f7fb"
      },
      "execution_count": null,
      "outputs": [
        {
          "output_type": "stream",
          "name": "stdout",
          "text": [
            "Ingrese n:10\n",
            "1.0,0.5,0.3333333333333333,0.25,0.2,0.16666666666666666,0.14285714285714285,0.125,0.1111111111111111,0.1\n",
            "La suma es:2.9289682539682538\n"
          ]
        }
      ]
    },
    {
      "cell_type": "code",
      "source": [
        "import math as mate\n",
        "n=int(input('Ingrese n:'))\n",
        "facto=mate.factorial(n)\n",
        "print(f'\\nEl factorial de {n}!={facto}')"
      ],
      "metadata": {
        "id": "f8fAh0U00gm2",
        "colab": {
          "base_uri": "https://localhost:8080/"
        },
        "outputId": "d4cfbaf0-d2e0-4d5c-ee7f-ab859d127e18"
      },
      "execution_count": null,
      "outputs": [
        {
          "output_type": "stream",
          "name": "stdout",
          "text": [
            "Ingrese n:8\n",
            "\n",
            "El factorial de 8!=40320\n"
          ]
        }
      ]
    },
    {
      "cell_type": "code",
      "source": [
        "acu=1\n",
        "while i<=n:\n",
        "    print(f'{i}',end=\" \")\n",
        "    acu=acu*i\n",
        "    i=i+1\n",
        "print(f'\\nEl factorial de {n}!={acu}')"
      ],
      "metadata": {
        "id": "OAwdbKXJ0hXT"
      },
      "execution_count": null,
      "outputs": []
    },
    {
      "cell_type": "code",
      "source": [
        "#Serie Taylor: Exponencial\n",
        "import math as mt\n",
        "import matplotlib.pyplot as plt\n",
        "acu=0\n",
        "x=int(input('Ingrese el número x:'))\n",
        "n=int(input('Ingrese el número n:'))\n",
        "for i in range(0,n):\n",
        "    acu=acu+(x**i)/(mt.factorial(i))\n",
        "    plt.plot(i, acu,'ro')\n",
        "print(f'La exponencial por sumatoria es {acu}')\n",
        "expo=mt.exp(x)\n",
        "print(f'La exponencial real es {expo}')\n",
        "plt.title('GRAFICA DE EXPONENCIAL')\n",
        "plt.xlabel('Eje X')\n",
        "plt.ylabel('Eje Y')\n",
        "plt.grid()\n",
        "plt.show()"
      ],
      "metadata": {
        "id": "ly_rWpHx0jh5",
        "outputId": "507cf638-8ee7-4f05-eddc-f3f3e1059109",
        "colab": {
          "base_uri": "https://localhost:8080/",
          "height": 541
        }
      },
      "execution_count": null,
      "outputs": [
        {
          "output_type": "stream",
          "name": "stdout",
          "text": [
            "Ingrese el número x:10\n",
            "Ingrese el número n:6\n",
            "La exponencial por sumatoria es 1477.6666666666667\n",
            "La exponencial real es 22026.465794806718\n"
          ]
        },
        {
          "output_type": "display_data",
          "data": {
            "text/plain": [
              "<Figure size 640x480 with 1 Axes>"
            ],
            "image/png": "[encoded data removed]"
          },
          "metadata": {}
        }
      ]
    },
    {
      "cell_type": "markdown",
      "source": [
        "4 de abril"
      ],
      "metadata": {
        "id": "RQrNCOjw06VT"
      }
    },
    {
      "cell_type": "code",
      "source": [
        "#ejercicio 1\n",
        "i=1\n",
        "while i<6:\n",
        "    print(f'{i}')\n",
        "    i=i+1"
      ],
      "metadata": {
        "id": "xsBn4Es507V-",
        "outputId": "4150d89c-ff52-43bc-d4b3-df6bd802021b",
        "colab": {
          "base_uri": "https://localhost:8080/"
        }
      },
      "execution_count": null,
      "outputs": [
        {
          "output_type": "stream",
          "name": "stdout",
          "text": [
            "1\n",
            "2\n",
            "3\n",
            "4\n",
            "5\n"
          ]
        }
      ]
    },
    {
      "cell_type": "code",
      "source": [
        "#ejercicio 2\n",
        "n=int(input('Ingrese n:'))\n",
        "for i in range(1,n+1):\n",
        "    if i==n:\n",
        "        print(f'{i}', end=\"\")\n",
        "    else:\n",
        "        print(f'{i}', end=\",\")"
      ],
      "metadata": {
        "id": "849_4JzW1C4j"
      },
      "execution_count": null,
      "outputs": []
    },
    {
      "cell_type": "code",
      "source": [
        "#ingrese n edades por teclado, calcular la suma de las edades ingresadas y su promedio\n",
        "n=int(input(\"Ingrese la cantidad de edades a ingresar:\"))\n",
        "acum_e=0\n",
        "i=1\n",
        "while i<=n:\n",
        "    edad=int(input(\"Ingrese su edad:\"))\n",
        "    acum_e+=edad\n",
        "    i+=1\n",
        "prom=acum_e/n\n",
        "print(f\"La suma de las edades es {acum_e}\")\n",
        "print(f\"El promedio de las edades {prom}\")"
      ],
      "metadata": {
        "id": "e0jkolJ-1E4z",
        "colab": {
          "base_uri": "https://localhost:8080/"
        },
        "outputId": "060bbf3c-1e7e-41d6-e747-52a509e98bb9"
      },
      "execution_count": null,
      "outputs": [
        {
          "output_type": "stream",
          "name": "stdout",
          "text": [
            "Ingrese la cantidad de edades a ingresar:5\n",
            "Ingrese su edad:12\n",
            "Ingrese su edad:7\n",
            "Ingrese su edad:9\n",
            "Ingrese su edad:15\n",
            "Ingrese su edad:50\n",
            "La suma de las edades es 93\n",
            "El promedio de las edades 18.6\n"
          ]
        }
      ]
    },
    {
      "cell_type": "code",
      "source": [
        "#Ingrese n edades por teclado, contar cuantos son mayores de edad\n",
        "n=int(input(\"Ingrese la cantidad de edades a ingresar:\"))\n",
        "acum_mayor=0\n",
        "i=1\n",
        "contador=0\n",
        "while i<=n:\n",
        "    edad=int(input(\"Ingrese su edad:\"))\n",
        "    if edad>=18:\n",
        "        acum_mayor+=edad\n",
        "        contador+=1\n",
        "    i+=1\n",
        "prom=acum_mayor/contador\n",
        "print(f\"Hay {contador} mayores de edad\")\n",
        "print(f\"El promedio de las edades mayores es {prom}\")"
      ],
      "metadata": {
        "id": "6669mZCL1HGN",
        "colab": {
          "base_uri": "https://localhost:8080/"
        },
        "outputId": "573d1f46-0ea8-4261-95a9-bf185236ab8d"
      },
      "execution_count": null,
      "outputs": [
        {
          "output_type": "stream",
          "name": "stdout",
          "text": [
            "Ingrese la cantidad de edades a ingresar:3\n",
            "Ingrese su edad:20\n",
            "Ingrese su edad:7\n",
            "Ingrese su edad:-2\n",
            "Hay 1 mayores de edad\n",
            "El promedio de las edades mayores es 20.0\n"
          ]
        }
      ]
    },
    {
      "cell_type": "code",
      "source": [
        "#Ingrese n edades por teclado, y calcule cual es el mayor y cual el menor\n",
        "n=int(input(\"Ingrese la cantidad de edades a ingresar:\"))\n",
        "acum_mayor=0\n",
        "i=1\n",
        "contador=0\n",
        "bigger=0\n",
        "less=200\n",
        "while i<=n:\n",
        "    edad=int(input(\"Ingrese su edad:\"))\n",
        "    if edad>bigger:\n",
        "        bigger=edad\n",
        "    if edad<less:\n",
        "        less=edad\n",
        "\n",
        "    i+=1\n",
        "\n",
        "print(f\"El mayor de las edades es {bigger}\")\n",
        "print(f\"El mayor de las edades es {less}\")\n"
      ],
      "metadata": {
        "id": "i9wwZHJM1JQ2"
      },
      "execution_count": null,
      "outputs": []
    },
    {
      "cell_type": "code",
      "source": [
        "#Ingrese n edades por teclado, y calcule cual es el mayor y cual el menor de los mayores de 18\n",
        "n=int(input(\"Ingrese la cantidad de edades a ingresar:\"))\n",
        "acum_mayor=0\n",
        "i=1\n",
        "contador=0\n",
        "bigger=0\n",
        "less=100\n",
        "while i<=n:\n",
        "    edad=int(input(\"Ingrese su edad:\"))\n",
        "    if edad>=18:\n",
        "        if edad>bigger:\n",
        "            bigger=edad\n",
        "        if edad<less:\n",
        "            less=edad\n",
        "    i+=1\n",
        "\n",
        "print(f\"El mayor de las edades es {bigger}\")\n",
        "print(f\"El menor de las edades es {less}\")\n"
      ],
      "metadata": {
        "id": "7OFldi1U1Lk0",
        "colab": {
          "base_uri": "https://localhost:8080/"
        },
        "outputId": "3a19d9d2-7c74-4c9b-a041-e9edd8800a78"
      },
      "execution_count": null,
      "outputs": [
        {
          "output_type": "stream",
          "name": "stdout",
          "text": [
            "Ingrese la cantidad de edades a ingresar:4\n",
            "Ingrese su edad:18\n",
            "Ingrese su edad:20\n",
            "Ingrese su edad:40\n",
            "Ingrese su edad:50\n",
            "El mayor de las edades es 50\n",
            "El menor de las edades es 0\n"
          ]
        }
      ]
    },
    {
      "cell_type": "code",
      "source": [
        "1#Ingrese n edades por teclado, y calcule cual es el mayor y cual el menor de los mayores de 18 y menores de 18\n",
        "n=int(input(\"Ingrese la cantidad de edades a ingresar:\"))\n",
        "acum_mayor=0\n",
        "i=1\n",
        "contador=0\n",
        "bigger=0\n",
        "less=200\n",
        "bigger_men18=0\n",
        "less_men18=200\n",
        "while i<=n:\n",
        "    edad=int(input(\"Ingrese su edad:\"))\n",
        "    if edad>=18:\n",
        "        if edad>bigger:\n",
        "            bigger=edad\n",
        "        if edad<less:\n",
        "            less=edad\n",
        "    else:\n",
        "        if edad>bigger_men18:\n",
        "            bigger_men18=edad\n",
        "        if edad<less_men18:\n",
        "            less_men18=edad\n",
        "    i+=1\n",
        "print(f\"El mayor de las edades de 18 es {bigger}\")\n",
        "print(f\"El menor de las edades de 18 es {less}\")\n",
        "print(f\"El mayor de las edades menores 18 es {bigger_men18}\")\n",
        "print(f\"El menor de las edades menores 18 es {less_men18}\")\n"
      ],
      "metadata": {
        "id": "JjJzpCo61N2L",
        "colab": {
          "base_uri": "https://localhost:8080/"
        },
        "outputId": "2f523927-daf3-4150-871a-661898ccca08"
      },
      "execution_count": null,
      "outputs": [
        {
          "output_type": "stream",
          "name": "stdout",
          "text": [
            "Ingrese la cantidad de edades a ingresar:4\n",
            "Ingrese su edad:10\n",
            "Ingrese su edad:5\n",
            "Ingrese su edad:18\n",
            "Ingrese su edad:25\n",
            "El mayor de las edades de 18 es 25\n",
            "El menor de las edades de 18 es 18\n",
            "El mayor de las edades menores 18 es 10\n",
            "El menor de las edades menores 18 es 5\n"
          ]
        }
      ]
    },
    {
      "cell_type": "code",
      "source": [
        "import random\n",
        "n=int(input(\"Ingrese la cantidad de edades a ingresar:\"))\n",
        "pares_cont=0\n",
        "acum_pares=0\n",
        "mayor_impar=0\n",
        "menor_impar=150\n",
        "for i in range (n):\n",
        "    num=random.randint(0,100)\n",
        "    if num%2==0:\n",
        "        pares_cont+=1\n",
        "        acum_pares+=num\n",
        "    else:\n",
        "        if num>mayor_impar:\n",
        "            mayor_impar=num\n",
        "\n",
        "        if num<menor_impar:\n",
        "            menor_impar=num\n",
        "promedio=acum_pares/pares_cont\n",
        "print(f\"La cantidad de pares es {pares_cont} y su promedio es {promedio}\")\n",
        "print(f\"El mayor de los impares es {mayor_impar}\")\n",
        "print(f\"El menor de los impares es {menor_impar}\")\n"
      ],
      "metadata": {
        "id": "9A1VqCWW1Qo-",
        "colab": {
          "base_uri": "https://localhost:8080/"
        },
        "outputId": "fd1e2402-b82e-41bb-c356-c65cc82444c7"
      },
      "execution_count": null,
      "outputs": [
        {
          "output_type": "stream",
          "name": "stdout",
          "text": [
            "Ingrese la cantidad de edades a ingresar:4\n",
            "La cantidad de pares es 4 y su promedio es 58.5\n",
            "El mayor de los impares es 0\n",
            "El menor de los impares es 150\n"
          ]
        }
      ]
    },
    {
      "cell_type": "markdown",
      "source": [
        "11 de abril"
      ],
      "metadata": {
        "id": "89S5WPNP1ThJ"
      }
    },
    {
      "cell_type": "code",
      "source": [],
      "metadata": {
        "id": "IsizGbgx1dJg"
      },
      "execution_count": null,
      "outputs": []
    },
    {
      "cell_type": "code",
      "source": [
        "horas=int(input('Ingrese las horas:'))\n",
        "tarifa=int(input('Ingrese la tarifa:'))\n",
        "if horas<=1:\n",
        "    precio=tarifa\n",
        "elif horas>1 and horas<=3:\n",
        "    precio=tarifa+(horas-1)*0.75*tarifa\n",
        "elif horas>3 and horas<=5:\n",
        "    precio=tarifa+2*tarifa*0.75+(horas-3)*0.50*tarifa\n",
        "elif horas>5:\n",
        "    precio=tarifa+2*tarifa*0.75+2*tarifa*0.50+(horas-5)*0.25*tarifa\n",
        "\n",
        "print(f'El precio final es {precio}')"
      ],
      "metadata": {
        "id": "Dy9JtaV01eCN"
      },
      "execution_count": null,
      "outputs": []
    },
    {
      "cell_type": "code",
      "source": [
        "n=int(input('Ingrese la cantidad de notas:'))\n",
        "cont1=0\n",
        "cont2=0\n",
        "cont3=0\n",
        "for i in range(n):\n",
        "    nota=int(input('Ingrese la nota:'))\n",
        "    if nota>=0 or nota<=10:\n",
        "        if nota>=0 and nota<4:\n",
        "            cont1=cont1+1\n",
        "        elif nota>=4 and nota<7:\n",
        "            cont2=cont2+1\n",
        "        elif nota>=7 and nota<=10:\n",
        "            cont3=cont3+1\n",
        "    else:\n",
        "        print('Calificación Incorrecta')\n",
        "        continue\n",
        "print(f'Intervalo 1:{cont1}')\n",
        "print(f'Intervalo 2:{cont2}')\n",
        "print(f'Intervalo 3:{cont3}')"
      ],
      "metadata": {
        "id": "Rlvf41VN1j7s"
      },
      "execution_count": null,
      "outputs": []
    },
    {
      "cell_type": "code",
      "source": [],
      "metadata": {
        "id": "FbavfQtkCbTR"
      },
      "execution_count": null,
      "outputs": []
    },
    {
      "cell_type": "markdown",
      "source": [
        "22 de abril"
      ],
      "metadata": {
        "id": "KfnSwtt51vcK"
      }
    },
    {
      "cell_type": "code",
      "source": [
        "import random\n",
        "#Definición de entradas\n",
        "\n",
        "n=int(input('Ingrese el tamaño del Vector:'))\n",
        "a=int(input(\"Ingrese tamaño mínimo: \"))\n",
        "b=int(input(\"Ingrese el valor máximo\"))\n",
        "vec=[]\n",
        "\n",
        "#Ingreso de datos en el vector\n",
        "for i in range(n):\n",
        "    num=random.randint(a,b)\n",
        "    vec.append(num)\n",
        "\n",
        "#Imprimir\n",
        "print(\"IMPRESION NORMAL\")\n",
        "print('[',end=\"\")\n",
        "for i in range(n):\n",
        "    if i==n-1:\n",
        "        print(vec[i], end=\"\")\n",
        "    else:\n",
        "        print(vec[i], end=\" \")\n",
        "print(']')\n",
        "\n",
        "#Ordenar de menor a mayor\n",
        "for i in range(n):\n",
        "    for j in range(n-1):\n",
        "        if vec[j]>vec[j+1]:\n",
        "            aux=vec[j]\n",
        "            vec[j]=vec[j+1]\n",
        "            vec[j+1]=aux\n",
        "\n",
        "#Imprimir\n",
        "print(\"IMPRESION ORDENADA\")\n",
        "print('[',end=\"\")\n",
        "for i in range(n):\n",
        "    if i==n-1:\n",
        "        print(vec[i], end=\"\")\n",
        "    else:\n",
        "        print(vec[i], end=\" \")\n",
        "print(']')\n",
        "\n",
        "#Calculo de la Mediana\n",
        "if n%2==0:\n",
        "    var1=n//2\n",
        "    var2=(n-1)//2\n",
        "    mediana=(vec[var1]+vec[var2])/2\n",
        "else:\n",
        "    var=n//2\n",
        "    mediana=vec[var]\n",
        "print(f'La mediana es {mediana}')"
      ],
      "metadata": {
        "id": "AjxBjAhQ18Ca",
        "colab": {
          "base_uri": "https://localhost:8080/"
        },
        "outputId": "4d81b917-ab66-4501-89c7-b825480fded5"
      },
      "execution_count": null,
      "outputs": [
        {
          "output_type": "stream",
          "name": "stdout",
          "text": [
            "Ingrese el tamaño del Vector:5\n",
            "Ingrese tamaño mínimo: 4\n",
            "Ingrese el valor máximo10\n",
            "IMPRESION NORMAL\n",
            "[4 4 9 9 7]\n",
            "IMPRESION ORDENADA\n",
            "[4 4 7 9 9]\n",
            "La mediana es 7\n"
          ]
        }
      ]
    },
    {
      "cell_type": "markdown",
      "source": [
        "25 de abril"
      ],
      "metadata": {
        "id": "CSiz3RQd2Iw6"
      }
    },
    {
      "cell_type": "code",
      "source": [
        "import random\n",
        "n=int(input('Ingrese el tamaño del vector:'))\n",
        "vec=[]\n",
        "suma=0\n",
        "for i in range(n):\n",
        "    num=random.randint(0,100)\n",
        "    vec.append(num)\n",
        "mayor=vec[0]\n",
        "for i in range(n):\n",
        "    suma=suma+vec[i]\n",
        "    if vec[i]>mayor:\n",
        "        mayor=vec[i]\n",
        "        ind=i\n",
        "promedio=suma/n\n",
        "print(vec)\n",
        "print(f'El mayor es {mayor} y se encuentra en {ind}')\n",
        "print(f\"El promedio es {promedio}\")"
      ],
      "metadata": {
        "id": "PpjD8EM32KBs"
      },
      "execution_count": null,
      "outputs": []
    },
    {
      "cell_type": "code",
      "source": [
        "n=int(input('Ingrese el tamaño del Vector:'))\n",
        "vec=[]\n",
        "\n",
        "#Ingreso de datos en el vector\n",
        "for i in range(n):\n",
        "    num=rd.randint(0, 10)\n",
        "    vec.append(num)\n",
        "\n",
        "#IMPRESION de vector de manera iterativa\n",
        "print(\"IMPRESION NORMAL\")\n",
        "print('[',end=\"\")\n",
        "for i in range(n):\n",
        "    if i==n-1:\n",
        "        print(vec[i], end=\"\")\n",
        "    else:\n",
        "        print(vec[i], end=\" \")\n",
        "print(']')\n",
        "\n",
        "#ORDENAMIENTO de vector - Método Burbuja\n",
        "for i in range(n):\n",
        "    for j in range(n-1):\n",
        "        if vec[j]>vec[j+1]:\n",
        "            vec[j],vec[j+1]=vec[j+1],vec[j]\n",
        "\n",
        "#IMPRESION de vector de manera iterativa\n",
        "print(\"IMPRESION ORDENADA\")\n",
        "print('[',end=\"\")\n",
        "for i in range(n):\n",
        "    if i==n-1:\n",
        "        print(vec[i], end=\"\")\n",
        "    else:\n",
        "        print(vec[i], end=\" \")\n",
        "print(']')"
      ],
      "metadata": {
        "id": "GuFKexxA2Zqd"
      },
      "execution_count": null,
      "outputs": []
    },
    {
      "cell_type": "markdown",
      "source": [
        "29 de abril"
      ],
      "metadata": {
        "id": "x7g-f6QM2gKl"
      }
    },
    {
      "cell_type": "code",
      "source": [
        "import random\n",
        "m=int(input(\"Ingrese las filas:\"))\n",
        "n=int(input(\"Ingrese las columnas:\"))\n",
        "A=[]\n",
        "for i in range (m):\n",
        "  filas=[]\n",
        "  for j in range(n):\n",
        "    num=random.randint(0,10)\n",
        "    filas.append(num)\n",
        "  A.append(filas)\n",
        "print (A)\n",
        "for i in A:\n",
        "  for j in i:\n",
        "    print(j, end=\"\\t\")\n",
        "  print()\n",
        "\n",
        "#suma primera fila\n",
        "suma=0\n",
        "for i in range(n):\n",
        "  if i==0:\n",
        "    for j in A[i]:\n",
        "      suma+=j\n",
        "print(f\"La suma es {suma}\")\n",
        "\n",
        "#suma fila aleatoria\n",
        "suma1=0\n",
        "alea=random.randint(1,m-1)\n",
        "for i in range(n):\n",
        "  suma1+=A[alea][i]\n",
        "\n",
        "print(f\"La fila aletoria es {alea}\")\n",
        "print(f\"La suma es {suma1}\")\n",
        "\n",
        "#suma diagonal\n",
        "if m==n:\n",
        "  diagonal=0\n",
        "  for i in range(n):\n",
        "    for j in range(m):\n",
        "      if i==j:\n",
        "        diagonal+=A[i][j]\n",
        "  print(f\"La suma de la diagonal es {diagonal}\")"
      ],
      "metadata": {
        "id": "7iiSEYH62iun",
        "outputId": "52e09a50-d5ac-437f-b3e9-6b017e4723c7",
        "colab": {
          "base_uri": "https://localhost:8080/"
        }
      },
      "execution_count": null,
      "outputs": [
        {
          "output_type": "stream",
          "name": "stdout",
          "text": [
            "Ingrese las filas:5\n",
            "Ingrese las columnas:5\n",
            "[[1, 0, 8, 3, 4], [1, 8, 3, 2, 8], [5, 4, 6, 2, 8], [8, 5, 6, 6, 8], [3, 10, 10, 1, 3]]\n",
            "1\t0\t8\t3\t4\t\n",
            "1\t8\t3\t2\t8\t\n",
            "5\t4\t6\t2\t8\t\n",
            "8\t5\t6\t6\t8\t\n",
            "3\t10\t10\t1\t3\t\n",
            "La suma es 16\n",
            "La fila aletoria es 3\n",
            "La suma es 33\n",
            "La suma de la diagonal es 24\n"
          ]
        }
      ]
    },
    {
      "cell_type": "code",
      "source": [
        "import random as rd\n",
        "import  matplotlib.pyplot as plt\n",
        "#Definición de entradas\n",
        "n=int(input('Ingrese el tamaño del Vector:'))\n",
        "vec1=[]\n",
        "vec2=[]\n",
        "\n",
        "#Ingreso de datos en el vector\n",
        "for i in range(n):\n",
        "    num1=rd.randint(0, 10)\n",
        "    vec1.append(num1)\n",
        "    num2=rd.randint(0, 10)\n",
        "    vec2.append(num2)\n",
        "print(vec1)\n",
        "print(vec2)\n",
        "plt.plot(vec1,vec2, 'ro')\n",
        "plt.show()"
      ],
      "metadata": {
        "id": "ZWJMyt282wuE"
      },
      "execution_count": null,
      "outputs": []
    },
    {
      "cell_type": "code",
      "source": [
        "import random as rd\n",
        "\n",
        "#Definición de entradas\n",
        "n=int(input('Ingrese el tamaño del Vector:'))\n",
        "vec=[]\n",
        "\n",
        "#Ingreso de datos en el vector\n",
        "for i in range(n):\n",
        "    num=rd.randint(0, 10)\n",
        "    vec.append(num)\n",
        "\n",
        "#IMPRESION de vector de manera iterativa\n",
        "print(\"IMPRESION NORMAL\")\n",
        "print('[',end=\"\")\n",
        "for i in range(n):\n",
        "    if i==n-1:\n",
        "        print(vec[i], end=\"\")\n",
        "    else:\n",
        "        print(vec[i], end=\" \")\n",
        "print(']')\n",
        "\n",
        "print(\"IMPRESION ALREVEZ\")\n",
        "print('[',end=\"\")\n",
        "n = len(vec)\n",
        "for i in range(n-1,-1,-1):\n",
        "    if i==0:\n",
        "        print(vec[i], end=\"\")\n",
        "    else:\n",
        "        print(vec[i], end=\" \")\n",
        "print(']')\n",
        "\n",
        "print(\"OTRA FORMA IMPRESION ALREVEZ - FORMA ITERATIVA\")\n",
        "print('[',end=\"\")\n",
        "for i in range(len(vec)):\n",
        "    if i==n-1:\n",
        "        print(vec[-i-1], end=\"\")\n",
        "    else:\n",
        "        print(vec[-i-1], end=\" \")\n",
        "print(']')"
      ],
      "metadata": {
        "id": "2E-zcntp21uG"
      },
      "execution_count": null,
      "outputs": []
    },
    {
      "cell_type": "code",
      "source": [],
      "metadata": {
        "id": "2bIGnrb4D4Ks"
      },
      "execution_count": null,
      "outputs": []
    },
    {
      "cell_type": "markdown",
      "source": [
        "2 de mayo"
      ],
      "metadata": {
        "id": "l2Qrp5xg3HqD"
      }
    },
    {
      "cell_type": "code",
      "source": [
        "import random as rd\n",
        "m=int(input('Ingrese las filas:'))\n",
        "n=int(input('Ingrese las columnas:'))\n",
        "A=[] #INICIALIZANDO MATRIZ\n",
        "\n",
        "#INSERTAR DATOS EN MATRIZ\n",
        "for i in range(m):\n",
        "    filas=[]\n",
        "    for j in range(n):\n",
        "        num=rd.randint(0, 10)\n",
        "        filas.append(num)\n",
        "    A.append(filas)\n",
        "\n",
        "#IMPRIMIR MATRIZ\n",
        "for i in range(m):\n",
        "    print('[',end='')\n",
        "    for j in range(n):\n",
        "        if j==n-1:\n",
        "            print(f'{A[i][j]}', end='')\n",
        "        else:\n",
        "            print(f'{A[i][j]}', end=',')\n",
        "    print(']')\n",
        "\n",
        "#SUMAR FILA ALEATORIA\n",
        "alea1=rd.randint(0, m-1)\n",
        "suma1=0\n",
        "for j in range(n):\n",
        "    suma1=suma1+A[alea1][j]\n",
        "print(f'La suma de la fila {alea1} es {suma1}')\n",
        "\n",
        "#SUMAR COLUMNA ALEATORIO\n",
        "alea2=rd.randint(0, n-1)\n",
        "suma2=0\n",
        "for i in range(m):\n",
        "    suma2=suma2+A[i][alea2]\n",
        "print(f'La suma de la columna {alea2} es {suma2}')\n",
        "\n",
        "#SUMA DIAGONAL PRINCIPAL\n",
        "suma_diagonal_prin=0\n",
        "if m==n:\n",
        "    for i in range (m):\n",
        "        for j in range (n):\n",
        "            if i==j:\n",
        "                suma_diagonal_prin+=A[i][j]\n",
        "    print(f\"La suma de la diagonal es: {suma_diagonal_prin}\")\n",
        "else:\n",
        "    print(\"Solo podemos sumar la diagonal de matrices cuadradas\")\n",
        "\n",
        "#SUMA DIAGONAL SECUNDARIA\n",
        "suma_diagonal_sec=0\n",
        "if m==n:\n",
        "    for i in range(m):\n",
        "        for j in range(n):\n",
        "             if i+j==n-1:\n",
        "               suma_diagonal_sec+=A[i][j]\n",
        "    print(f'La suma de la diagonal secundaria es {suma_diagonal_sec}')\n",
        "else:\n",
        "    print('No se puede sumar la diagonal de una matriz no cuadrada')\n",
        "\n",
        "\n",
        "#SUMA FILAS\n",
        "sumafilas=[]\n",
        "sumacolumnas=[]\n",
        "for i in range(m):\n",
        "    sumaf=0\n",
        "    for j in range(n):\n",
        "        sumaf+=A[i][j]\n",
        "    sumafilas.append(sumaf)\n",
        "print(f\"Las sumas de las filas es {sumafilas}\")\n",
        "\n",
        "\n",
        "#SUMA COLUMNAS\n",
        "for i in range(n):\n",
        "    sumac=0\n",
        "    for j in range(m):\n",
        "        sumac+=A[j][i]\n",
        "    sumacolumnas.append(sumac)\n",
        "print(f\"Las sumas de las columnas es {sumacolumnas}\")\n",
        "\n",
        "#EL NUMERO MAYOR DE CADA FILA Y SU INDICE\n",
        "matrizf=[]\n",
        "for i in range(m):\n",
        "    filas1=[]\n",
        "    mayor=A[i][0]\n",
        "    count=0\n",
        "    for j in range(n):\n",
        "        if A[i][j]>mayor:\n",
        "            mayor=A[i][j]\n",
        "            count=j\n",
        "\n",
        "    filas1.append(mayor)\n",
        "    filas1.append(count)\n",
        "    matrizf.append(filas1)\n",
        "\n",
        "print(f\"Los números mayores son los siguientes y se encuentran en las posiciones {matrizf}\")\n",
        "\n",
        "#EL NUMERO MAYOR DE CADA COLUMNA Y SU INDICE\n",
        "matrizc=[]\n",
        "for i in range(n):\n",
        "    columnas=[]\n",
        "    mayorc=A[0][i]\n",
        "    countc=0\n",
        "    for j in range(m):\n",
        "        if A[j][i]>mayorc:\n",
        "            mayorc=A[j][i]\n",
        "            countc=j\n",
        "    columnas.append(mayorc)\n",
        "    columnas.append(countc)\n",
        "    matrizc.append(columnas)\n",
        "\n",
        "print(f\"Los números mayores son los siguientes y se encuentran en las posiciones {matrizc}\")"
      ],
      "metadata": {
        "id": "nmiz886Z3Ijw"
      },
      "execution_count": null,
      "outputs": []
    },
    {
      "cell_type": "markdown",
      "source": [
        "6 de mayo"
      ],
      "metadata": {
        "id": "FmZ6vKVe3Xnm"
      }
    },
    {
      "cell_type": "code",
      "source": [
        "simpsons=[\"Homero\",\"Marge\",\"Bart\"]\n",
        "print(simpsons[0])\n",
        "\n",
        "print(f\"El tamaño de la lista es {len(simpsons)}\")\n",
        "simpsons.append(\"Lisa\")\n",
        "print(simpsons)\n",
        "simpsons.insert(1,\"Oscar\")\n",
        "print(simpsons)\n",
        "simpsons.remove(\"Oscar\")\n",
        "print(simpsons)\n",
        "\n",
        "#ejercicio 2\n",
        "import random\n",
        "vec=[]\n",
        "n=int(input(\"Ingrese el tamaño del vector:\"))\n",
        "\n",
        "for i in range(n):\n",
        "    num=random.randint(1,10)\n",
        "    vec.append(num)\n",
        "\n",
        "print(vec)\n",
        "\n",
        "while True:\n",
        "    elim=int(input(\"Que elemento quieres eliminar:\"))\n",
        "    for i in vec:\n",
        "        if elim in vec:\n",
        "            vec.remove(elim)\n",
        "    print(vec)\n",
        "    opc=str(input(\"Quieres eliminar más elementos(si/no):\"))\n",
        "    if opc==\"si\":\n",
        "        continue\n",
        "    else:\n",
        "        break"
      ],
      "metadata": {
        "id": "yF4Eq0PK3aMI"
      },
      "execution_count": null,
      "outputs": []
    },
    {
      "cell_type": "code",
      "source": [
        "#Slicing en Python.\n",
        "weekdays=[\"mon\", \"tues\", \"wed\", \"thurs\", \"fri\"]\n",
        "print(weekdays[2:])"
      ],
      "metadata": {
        "id": "eo_0lfil3g6E",
        "colab": {
          "base_uri": "https://localhost:8080/"
        },
        "outputId": "742f45a9-67fa-4212-9738-aadeee20e1f3"
      },
      "execution_count": null,
      "outputs": [
        {
          "output_type": "stream",
          "name": "stdout",
          "text": [
            "['wed', 'thurs', 'fri']\n"
          ]
        }
      ]
    }
  ],
  "metadata": {
    "kernelspec": {
      "display_name": "Python 3",
      "language": "python",
      "name": "python3"
    },
    "language_info": {
      "codemirror_mode": {
        "name": "ipython",
        "version": 3
      },
      "file_extension": ".py",
      "mimetype": "text/x-python",
      "name": "python",
      "nbconvert_exporter": "python",
      "pygments_lexer": "ipython3",
      "version": "3.7.1"
    },
    "colab": {
      "provenance": []
    }
  },
  "nbformat": 4,
  "nbformat_minor": 0
}